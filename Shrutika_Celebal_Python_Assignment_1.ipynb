{
  "nbformat": 4,
  "nbformat_minor": 0,
  "metadata": {
    "kernelspec": {
      "display_name": "Python 3",
      "language": "python",
      "name": "python3"
    },
    "language_info": {
      "codemirror_mode": {
        "name": "ipython",
        "version": 3
      },
      "file_extension": ".py",
      "mimetype": "text/x-python",
      "name": "python",
      "nbconvert_exporter": "python",
      "pygments_lexer": "ipython3",
      "version": "3.6.8"
    },
    "colab": {
      "name": "Shrutika_Celebal_Python Assignment_1.ipynb",
      "provenance": [],
      "collapsed_sections": []
    }
  },
  "cells": [
    {
      "cell_type": "markdown",
      "metadata": {
        "id": "l0ZzOlyxB-kf"
      },
      "source": [
        "<h1>Python: without numpy or sklearn </h1>"
      ]
    },
    {
      "cell_type": "markdown",
      "metadata": {
        "id": "C0xO8JV9B-ki"
      },
      "source": [
        "<h3> Q1: Given two matrices please print the product of those two matrices </h3>\n",
        "<pre>\n",
        "\n",
        "Ex 1: A   = [[1 3 4]\n",
        "             [2 5 7]\n",
        "             [5 9 6]]\n",
        "      B   = [[1 0 0]\n",
        "             [0 1 0]\n",
        "             [0 0 1]]\n",
        "      A*B = [[1 3 4]\n",
        "             [2 5 7]\n",
        "             [5 9 6]]\n",
        "\n",
        "     \n",
        "Ex 2: A   = [[1 2]\n",
        "             [3 4]]\n",
        "      B   = [[1 2 3 4 5]\n",
        "             [5 6 7 8 9]]\n",
        "      A*B = [[11 14 17 20 23]\n",
        "             [23 30 36 42 51]]\n",
        "             \n",
        "Ex 3: A   = [[1 2]\n",
        "             [3 4]]\n",
        "      B   = [[1 4]\n",
        "             [5 6]\n",
        "             [7 8]\n",
        "             [9 6]]\n",
        "      A*B =Not possible\n",
        "</pre>"
      ]
    },
    {
      "cell_type": "code",
      "metadata": {
        "id": "rnssAfpgB-kj",
        "colab": {
          "base_uri": "https://localhost:8080/"
        },
        "outputId": "996a5cd2-1527-4fec-b386-2aaa8f17b35b"
      },
      "source": [
        "def matrix_mul(P, Q):\n",
        "    num_rows_P = len(P)\n",
        "    num_columns_P = len(P[0])\n",
        "    num_rows_Q = len(Q)\n",
        "    num_columns_Q = len(Q[0])\n",
        "# To multiply an m×n matrix by an n×p matrix, the ns must be the same,and the result is an m×p matrix.\n",
        "    if num_columns_P != num_rows_Q:\n",
        "        print(\n",
        "            \"Matrix multiplication of two arguments not possible as number of columns in 1st Matrix is NOT Equal to the number of rows in 2nd Matrix\")\n",
        "        return\n",
        "# Create an result matrix which will have dimensions of num_rows_P x num_columns_Q and fill this matrix with zeros\n",
        "    result_matrix = [[0 for i in range(num_columns_Q)] for j in range(num_rows_P)]\n",
        "# The element at row i, column j is the product of the ith row of matrix P and the jth column of matrix Q.\n",
        "    for i in range(num_rows_P):\n",
        "        for j in range(num_columns_Q):\n",
        "            for k in range(num_columns_P):\n",
        "# k-th column of P should be the k-th row of Q\n",
        "                result_matrix[i][j] += P[i][k] * Q[k][j]\n",
        "    return result_matrix\n",
        "P = [[1, 3, 4],\n",
        "     [2, 5, 7],\n",
        "     [5, 9, 6]]\n",
        "\n",
        "Q = [[1, 0, 0],\n",
        "     [0, 1, 0],\n",
        "     [0, 0, 1]]\n",
        "\n",
        "R = [[1, 2],\n",
        "      [3, 4]]\n",
        "\n",
        "S = [[1, 2, 3, 4, 5],\n",
        "      [5, 6, 7, 8, 9]]\n",
        "             \n",
        "T = [[1,2],\n",
        "     [3,4]]\n",
        "U = [[1,4],\n",
        "     [5,6],\n",
        "     [7,8],\n",
        "     [9,6]]\n",
        "\n",
        "print(matrix_mul(P, Q))\n",
        "print(matrix_mul(R, S))\n",
        "print(matrix_mul(T, U))"
      ],
      "execution_count": null,
      "outputs": [
        {
          "output_type": "stream",
          "name": "stdout",
          "text": [
            "[[1, 3, 4], [2, 5, 7], [5, 9, 6]]\n",
            "[[11, 14, 17, 20, 23], [23, 30, 37, 44, 51]]\n",
            "Matrix multiplication of two arguments not possible as number of columns in 1st Matrix is NOT Equal to the number of rows in 2nd Matrix\n",
            "None\n"
          ]
        }
      ]
    },
    {
      "cell_type": "markdown",
      "metadata": {
        "id": "at4VwLggB-kn"
      },
      "source": [
        "<h3> Q2: Select a number randomly with probability proportional to its magnitude from the given array of n elements</h3>\n",
        "\n",
        "consider an experiment, selecting an element from the list A randomly with probability proportional to its magnitude.\n",
        "assume we are doing the same experiment for 100 times with replacement, in each experiment you will print a number that is selected randomly from A.\n",
        "\n",
        "<pre>\n",
        "Ex 1: A = [0 5 27 6 13 28 100 45 10 79]\n",
        "let f(x) denote the number of times x getting selected in 100 experiments.\n",
        "f(100) > f(79) > f(45) > f(28) > f(27) > f(13) > f(10) > f(6) > f(5) > f(0)\n",
        "</pre>"
      ]
    },
    {
      "cell_type": "code",
      "metadata": {
        "id": "B6S2dpBhB-kn"
      },
      "source": [
        "import random\n",
        "from bisect import bisect\n",
        "\n",
        "def no_f_list(num_list, n=100):\n",
        "    cumulative_sum_list = []\n",
        "    j = 0\n",
        "    for i in range(0, len(num_list)):\n",
        "        j += num_list[i]\n",
        "        cumulative_sum_list.append(j)\n",
        "\n",
        "    result_list = []\n",
        "    for _ in range(n):\n",
        "        random_num = random.random()\n",
        "        item_index = bisect(cumulative_sum_list, random_num * cumulative_sum_list[-1])\n",
        "\n",
        "        result_list.append(num_list[item_index])\n",
        "\n",
        "    return result_list\n",
        "\n",
        "def sampling_based_on_magnitude(num_list):\n",
        "    for i in range(1, 100):\n",
        "        number = no_f_list(num_list)\n",
        "        print(number)\n",
        "A = [1, 5, 27, 6, 13, 28, 100, 45, 10, 79]\n",
        "\n"
      ],
      "execution_count": 4,
      "outputs": []
    },
    {
      "cell_type": "markdown",
      "metadata": {
        "id": "D1xQy2WWB-kq"
      },
      "source": [
        "<h3> Q3: Replace the digits in the string with #</h3>\n",
        "\n",
        "consider a string that will have digits in that, we need to remove all the not digits and replace the digits with #\n",
        "<pre>\n",
        "Ex 1: A = 234                Output: ###\n",
        "Ex 2: A = a2b3c4             Output: ###\n",
        "Ex 3: A = abc                Output:   (empty string)\n",
        "Ex 5: A = #2a$#b%c%561#      Output: ####\n",
        "</pre>"
      ]
    },
    {
      "cell_type": "code",
      "metadata": {
        "id": "fxczi2jzB-kr",
        "colab": {
          "base_uri": "https://localhost:8080/"
        },
        "outputId": "cc452d5e-7a7c-40e4-b016-dd818b47097d"
      },
      "source": [
        "import re\n",
        "def replace_d_h(str):\n",
        "    replacements = [\n",
        "        ('\\D', '',),\n",
        "        ('\\d', '#'),\n",
        "    ]\n",
        "\n",
        "    for old, new in replacements:\n",
        "        str = re.sub(old, new, str)\n",
        "    return str\n",
        "# Test-cases\n",
        "A1 = \"a2b3c4\"\n",
        "A2 = \"234\"\n",
        "A3 = 'abc'\n",
        "A4 = '#2a$#b%c%561#'\n",
        "print(replace_d_h(A1))\n",
        "print(replace_d_h(A2))\n",
        "print(replace_d_h(A3))\n",
        "print(replace_d_h(A4))"
      ],
      "execution_count": null,
      "outputs": [
        {
          "output_type": "stream",
          "name": "stdout",
          "text": [
            "###\n",
            "###\n",
            "\n",
            "####\n"
          ]
        }
      ]
    },
    {
      "cell_type": "markdown",
      "metadata": {
        "id": "j7h0Ywg7B-kw"
      },
      "source": [
        "<h3> Q4: Students marks dashboard</h3>\n",
        "\n",
        "consider the marks list of class students given two lists <br>\n",
        "Students = ['student1','student2','student3','student4','student5','student6','student7','student8','student9','student10'] <br>\n",
        "Marks = [45, 78, 12, 14, 48, 43, 45, 98, 35, 80] <br>\n",
        "from the above two lists the Student[0] got Marks[0],  Student[1] got Marks[1] and so on <br><br>\n",
        "your task is to print the name of students\n",
        "<strong>a. Who got top 5 ranks, in the descending order of marks</strong> <br>\n",
        "<strong>b. Who got least 5 ranks, in the increasing order of marks</strong><br>\n",
        "<strong>d. Who got marks between  &gt;25th percentile &lt;75th percentile, in the increasing order of marks</strong>\n",
        "\n",
        "<pre>\n",
        "Ex 1: \n",
        "Students=['student1','student2','student3','student4','student5','student6','student7','student8','student9','student10'] \n",
        "Marks = [45, 78, 12, 14, 48, 43, 47, 98, 35, 80]\n",
        "a. \n",
        "student8  98\n",
        "student10 80\n",
        "student2  78\n",
        "student5  48\n",
        "student7  47\n",
        "b.\n",
        "student3 12\n",
        "student4 14\n",
        "student9 35\n",
        "student6 43\n",
        "student1 45\n",
        "c.\n",
        "student9 35\n",
        "student6 43\n",
        "student1 45\n",
        "student7 47\n",
        "student5 48\n",
        "</pre>"
      ]
    },
    {
      "cell_type": "code",
      "metadata": {
        "id": "cxPJgItsB-kx",
        "colab": {
          "base_uri": "https://localhost:8080/"
        },
        "outputId": "78d7a1fa-c7c6-4122-8a2a-58c7f75e11f0"
      },
      "source": [
        "import math\n",
        "def show_dash_board(students,marks):\n",
        "\n",
        "    marks_to_students_zipped = list(zip(marks, students))\n",
        "\n",
        "    marks_to_students_zipped.sort(key=lambda item: item[0])\n",
        "\n",
        "    top_5_ranks_by_marks = least_5_ranks_by_marks = marks_to_students_zipped\n",
        "\n",
        "    if len(marks_to_students_zipped) > 5:\n",
        "        top_5_ranks_by_marks = marks_to_students_zipped[:-6: -1]\n",
        "       \n",
        "        least_5_ranks_by_marks = marks_to_students_zipped[:5]\n",
        "\n",
        "    students_between_25_and_75_percentile = marks_to_students_zipped[math.ceil(0.25 * len(marks_to_students_zipped)):\n",
        "                                                                     math.floor(0.75 * len(marks_to_students_zipped))]\n",
        "\n",
        "    return top_5_ranks_by_marks, least_5_ranks_by_marks, students_between_25_and_75_percentile\n",
        "\n",
        "\n",
        "Students = ['student1', 'student2', 'student3', 'student4', 'student5', 'student6', 'student7', 'student8', 'student9',\n",
        "            'student10']\n",
        "Marks = [45, 78, 12, 14, 48, 43, 47, 98, 35, 80]\n",
        "\n",
        "show_dash_board(Students,Marks)\n"
      ],
      "execution_count": 5,
      "outputs": [
        {
          "output_type": "execute_result",
          "data": {
            "text/plain": [
              "([(98, 'student8'),\n",
              "  (80, 'student10'),\n",
              "  (78, 'student2'),\n",
              "  (48, 'student5'),\n",
              "  (47, 'student7')],\n",
              " [(12, 'student3'),\n",
              "  (14, 'student4'),\n",
              "  (35, 'student9'),\n",
              "  (43, 'student6'),\n",
              "  (45, 'student1')],\n",
              " [(43, 'student6'), (45, 'student1'), (47, 'student7'), (48, 'student5')])"
            ]
          },
          "metadata": {},
          "execution_count": 5
        }
      ]
    },
    {
      "cell_type": "markdown",
      "metadata": {
        "id": "qha0OhQHB-k1"
      },
      "source": [
        "<h3> Q5: Find the closest points</h3>\n",
        "\n",
        "consider you have given n data points in the form of list of tuples like S=[(x1,y1),(x2,y2),(x3,y3),(x4,y4),(x5,y5),..,(xn,yn)] and a point P=(p,q) <br> your task is to find 5 closest points(based on cosine distance) in S from P\n",
        "<br>cosine distance between two points (x,y) and (p,q) is defind as $cos^{-1}(\\frac{(x\\cdot p+y\\cdot q)}{\\sqrt(x^2+y^2)\\cdot\\sqrt(p^2+q^2)})$\n",
        "<pre>\n",
        "Ex:\n",
        "\n",
        "S= [(1,2),(3,4),(-1,1),(6,-7),(0, 6),(-5,-8),(-1,-1)(6,0),(1,-1)]\n",
        "P= (3,-4)\n",
        "<img src='https://i.imgur.com/vIFPOcG.jpg', width=300>\n",
        "Output:\n",
        "(6,-7)\n",
        "(1,-1)\n",
        "(6,0)\n",
        "(-5,-8)\n",
        "(-1,-1)\n",
        "</pre>"
      ]
    },
    {
      "cell_type": "code",
      "metadata": {
        "id": "wA5I1g-2B-k2",
        "colab": {
          "base_uri": "https://localhost:8080/"
        },
        "outputId": "933775c6-23d1-48f4-bf50-139905c2a1ee"
      },
      "source": [
        "import math\n",
        "def my_fun(S, P):\n",
        "    total_list_of_closest_points_to_p = []\n",
        "    result_closest_to_p = []\n",
        "\n",
        "    for point in S:\n",
        "        denominator = math.sqrt((point[0] ** 2) + (point[1] ** 2)) * math.sqrt((P[0] ** 2) + (P[1] ** 2))\n",
        "        numerator = point[0] * P[0] + point[1] * P[1]\n",
        "\n",
        "        if denominator != 0:\n",
        "            cosine_distance_for_this_point = math.acos(numerator / denominator)\n",
        "            total_list_of_closest_points_to_p.append((cosine_distance_for_this_point, point))\n",
        "\n",
        "    for item in sorted(total_list_of_closest_points_to_p, key=lambda x: x[0])[:5]:\n",
        "        result_closest_to_p.append(item[1])\n",
        "    return result_closest_to_p\n",
        "\n",
        "\n",
        "S = [(1, 2), (3, 4), (-1, 1), (6, -7), (0, 6), (-5, -8), (-1, -1), (6, 0), (1, -1)]\n",
        "P = (3, -4)\n",
        "\n",
        "closest_points = my_fun(S, P)\n",
        "print(*[point for point in closest_points], sep=\"\\n\")"
      ],
      "execution_count": null,
      "outputs": [
        {
          "output_type": "stream",
          "name": "stdout",
          "text": [
            "(6, -7)\n",
            "(1, -1)\n",
            "(6, 0)\n",
            "(-5, -8)\n",
            "(-1, -1)\n"
          ]
        }
      ]
    },
    {
      "cell_type": "markdown",
      "metadata": {
        "id": "-g11jeAiB-k5"
      },
      "source": [
        "<h3> Q6: Find Which line separates oranges and apples</h3>\n",
        "consider you have given two set of data points in the form of list of tuples like \n",
        "<pre>\n",
        "Red =[(R11,R12),(R21,R22),(R31,R32),(R41,R42),(R51,R52),..,(Rn1,Rn2)]\n",
        "Blue=[(B11,B12),(B21,B22),(B31,B32),(B41,B42),(B51,B52),..,(Bm1,Bm2)]\n",
        "</pre>\n",
        "and set of line equations(in the string formate, i.e list of strings)\n",
        "<pre>\n",
        "Lines = [a1x+b1y+c1,a2x+b2y+c2,a3x+b3y+c3,a4x+b4y+c4,..,K lines]\n",
        "Note: you need to string parsing here and get the coefficients of x,y and intercept\n",
        "</pre>\n",
        "your task is to for each line that is given print \"YES\"/\"NO\", you will print yes, if all the red points are one side of the line and blue points are other side of the line, otherwise no\n",
        "<pre>\n",
        "Ex:\n",
        "Red= [(1,1),(2,1),(4,2),(2,4), (-1,4)]\n",
        "Blue= [(-2,-1),(-1,-2),(-3,-2),(-3,-1),(1,-3)]\n",
        "Lines=[\"1x+1y+0\",\"1x-1y+0\",\"1x+0y-3\",\"0x+1y-0.5\"]\n",
        "<img src='https://i.imgur.com/DoQf7mE.jpg' width=400>\n",
        "Output:\n",
        "YES\n",
        "NO\n",
        "NO\n",
        "YES\n",
        "</pre>"
      ]
    },
    {
      "cell_type": "code",
      "metadata": {
        "id": "eRxExaTRB-k6",
        "colab": {
          "base_uri": "https://localhost:8080/"
        },
        "outputId": "e4d16b07-53b3-437f-c0d6-120b9d745e67"
      },
      "source": [
        "import math\n",
        "def my_fun(red, blue, line):\n",
        "    sign_of_equation_with_red_point_tuple = -1\n",
        "\n",
        "    if eval(line.replace('x', '*%s' % red[0][0]).replace('y', '*%s' % red[0][1])) > 0:\n",
        "        sign_of_equation_with_red_point_tuple = 1\n",
        "\n",
        "    for red_point in red:\n",
        "        if sign_of_equation_with_red_point_tuple == 1 and eval(\n",
        "                line.replace('x', '*%s' % red_point[0]).replace('y', '*%s' % red_point[1])) < 0:\n",
        "            return 'NO'\n",
        "        if sign_of_equation_with_red_point_tuple == -1 and eval(\n",
        "                line.replace('x', '*%s' % red_point[0]).replace('y', '*%s' % red_point[1])) > 0:\n",
        "            return 'NO'\n",
        "\n",
        "    # Now the same set of two traversal for the blue-points tuples\n",
        "    sign_of_equation_with_blue_point_tuple = -1 * sign_of_equation_with_red_point_tuple\n",
        "\n",
        "    for blue_point in blue:\n",
        "        if sign_of_equation_with_blue_point_tuple == 1 and eval(\n",
        "                line.replace('x', '*%s' % blue_point[0]).replace('y', '*%s' % blue_point[1])) < 0:\n",
        "            return 'NO'\n",
        "        if sign_of_equation_with_blue_point_tuple == -1 and eval(\n",
        "                line.replace('x', '*%s' % blue_point[0]).replace('y', '*%s' % blue_point[1])) > 0:\n",
        "            return 'NO'\n",
        "\n",
        "    return 'YES'\n",
        "\n",
        "Red = [(1, 1), (2, 1), (4, 2), (2, 4), (-1, 4)]\n",
        "Blue = [(-2, -1), (-1, -2), (-3, -2), (-3, -1), (1, -3)]\n",
        "\n",
        "Lines = [\"1x+1y+0\", \"1x-1y+0\", \"1x+0y-3\", \"0x+1y-0.5\"]\n",
        "\n",
        "for i in Lines:\n",
        "    yes_or_no = my_fun(Red, Blue, i)\n",
        "    print(yes_or_no)"
      ],
      "execution_count": null,
      "outputs": [
        {
          "output_type": "stream",
          "name": "stdout",
          "text": [
            "YES\n",
            "NO\n",
            "NO\n",
            "YES\n"
          ]
        }
      ]
    },
    {
      "cell_type": "markdown",
      "metadata": {
        "id": "9OBpURbNB-k9"
      },
      "source": [
        "<h3> Q7: Filling the missing values in the specified formate</h3>\n",
        "You will be given a string with digits and '\\_'(missing value) symbols you have to replace the '\\_' symbols as explained \n",
        "<pre>\n",
        "Ex 1: _, _, _, 24 ==> 24/4, 24/4, 24/4, 24/4 i.e we. have distributed the 24 equally to all 4 places <br>\n",
        "Ex 2: 40, _, _, _, 60 ==> (60+40)/5,(60+40)/5,(60+40)/5,(60+40)/5,(60+40)/5 ==> 20, 20, 20, 20, 20 i.e. the sum of (60+40) is distributed qually to all 5 places<br>\n",
        "Ex 3: 80, _, _, _, _  ==> 80/5,80/5,80/5,80/5,80/5 ==> 16, 16, 16, 16, 16 i.e. the 80 is distributed qually to all 5 missing values that are right to it<br>\n",
        "Ex 4: _, _, 30, _, _, _, 50, _, _  \n",
        "==> we will fill the missing values from left to right \n",
        "    a. first we will distribute the 30 to left two missing values (10, 10, 10, _, _, _, 50, _, _)\n",
        "    b. now distribute the sum (10+50) missing values in between (10, 10, 12, 12, 12, 12, 12, _, _) \n",
        "    c. now we will distribute 12 to right side missing values (10, 10, 12, 12, 12, 12, 4, 4, 4)\n",
        "</pre>\n",
        "for a given string with comma seprate values, which will have both missing values numbers like ex: \"_, _, x, _, _, _\"\n",
        "you need fill the missing values\n",
        "\n",
        "Q: your program reads a string like ex: \"_, _, x, _, _, _\" and returns the filled sequence\n",
        "\n",
        "Ex: \n",
        "<pre>\n",
        "Input1: \"_,_,_,24\"\n",
        "Output1: 6,6,6,6\n",
        "\n",
        "Input2: \"40,_,_,_,60\"\n",
        "Output2: 20,20,20,20,20\n",
        "\n",
        "Input3: \"80,_,_,_,_\"\n",
        "Output3: 16,16,16,16,16\n",
        "\n",
        "Input4: \"_,_,30,_,_,_,50,_,_\"\n",
        "Output4: 10,10,12,12,12,12,4,4,4\n",
        "</pre>\n",
        "\n"
      ]
    },
    {
      "cell_type": "code",
      "metadata": {
        "id": "nZmpzHs_B-k-",
        "colab": {
          "base_uri": "https://localhost:8080/"
        },
        "outputId": "2f417e2f-fa05-4864-c0e6-0d21cb053535"
      },
      "source": [
        "def fun(x, a, b):\n",
        "    if a == -1:\n",
        "        v = int(x[b])/(b+1)\n",
        "        for i in range(a+1,b+1):\n",
        "            x[i] = v\n",
        "    elif b == -1:\n",
        "        v = int(x[a])/(len(x)-a)\n",
        "        for i in range(a, len(x)):\n",
        "            x[i] = v\n",
        "    else:\n",
        "        v = (int(x[a])+int(x[b]))/(b-a+1)\n",
        "        for i in range(a,b+1):\n",
        "            x[i] = v\n",
        "    return x\n",
        "\n",
        "def replace(text):\n",
        "    # Create array from the string\n",
        "    x = text.replace(\" \",\"\").split(\",\")\n",
        "    # Get all the pairs of indices having number\n",
        "    y = [i for i, v in enumerate(x) if v != '_']\n",
        "    # Starting with _ ?\n",
        "    if y[0] != 0:\n",
        "        y = [-1] + y\n",
        "    # Ending with _ ?\n",
        "    if y[-1] != len(x)-1:\n",
        "        y = y + [-1]    \n",
        "    # run over all the pairs\n",
        "    for (a, b) in zip(y[:-1], y[1:]): \n",
        "        fun(x,a,b)          \n",
        "    return x\n",
        "\n",
        "tests = [\n",
        "    \"_,_,_,24\",\n",
        "    \"40,_,_,_,60\",\n",
        "    \"80,_,_,_,_\",\n",
        "     \"_,_,30,_,_,_,50,_,_\"]\n",
        "\n",
        "for i in tests:\n",
        "    print (replace(i))"
      ],
      "execution_count": 2,
      "outputs": [
        {
          "output_type": "stream",
          "name": "stdout",
          "text": [
            "[6.0, 6.0, 6.0, 6.0]\n",
            "[20.0, 20.0, 20.0, 20.0, 20.0]\n",
            "[16.0, 16.0, 16.0, 16.0, 16.0]\n",
            "[10.0, 10.0, 12.0, 12.0, 12.0, 12.0, 4.0, 4.0, 4.0]\n"
          ]
        }
      ]
    },
    {
      "cell_type": "markdown",
      "metadata": {
        "id": "RBz4pzlfB-lB"
      },
      "source": [
        "<h3> Q8: Filling the missing values in the specified formate</h3>\n",
        "You will be given a list of lists, each sublist will be of length 2 i.e. [[x,y],[p,q],[l,m]..[r,s]]\n",
        "consider its like a martrix of n rows and two columns\n",
        "1. the first column F will contain only 5 uniques values (F1, F2, F3, F4, F5)\n",
        "2. the second column S will contain only 3 uniques values (S1, S2, S3)\n",
        "<pre>\n",
        "your task is to find\n",
        "a. Probability of P(F=F1|S==S1), P(F=F1|S==S2), P(F=F1|S==S3)\n",
        "b. Probability of P(F=F2|S==S1), P(F=F2|S==S2), P(F=F2|S==S3)\n",
        "c. Probability of P(F=F3|S==S1), P(F=F3|S==S2), P(F=F3|S==S3)\n",
        "d. Probability of P(F=F4|S==S1), P(F=F4|S==S2), P(F=F4|S==S3)\n",
        "e. Probability of P(F=F5|S==S1), P(F=F5|S==S2), P(F=F5|S==S3)\n",
        "</pre>\n",
        "Ex:\n",
        "\n",
        "<pre>\n",
        "[[F1,S1],[F2,S2],[F3,S3],[F1,S2],[F2,S3],[F3,S2],[F2,S1],[F4,S1],[F4,S3],[F5,S1]]\n",
        "\n",
        "a. P(F=F1|S==S1)=1/4, P(F=F1|S==S2)=1/3, P(F=F1|S==S3)=0/3\n",
        "b. P(F=F2|S==S1)=1/4, P(F=F2|S==S2)=1/3, P(F=F2|S==S3)=1/3\n",
        "c. P(F=F3|S==S1)=0/4, P(F=F3|S==S2)=1/3, P(F=F3|S==S3)=1/3\n",
        "d. P(F=F4|S==S1)=1/4, P(F=F4|S==S2)=0/3, P(F=F4|S==S3)=1/3\n",
        "e. P(F=F5|S==S1)=1/4, P(F=F5|S==S2)=0/3, P(F=F5|S==S3)=0/3\n",
        "</pre>\n",
        "\n",
        "\n"
      ]
    },
    {
      "cell_type": "code",
      "metadata": {
        "id": "e-1giz1MB-lC",
        "colab": {
          "base_uri": "https://localhost:8080/"
        },
        "outputId": "3ec24532-f713-43a1-cc85-e6ae4c572988"
      },
      "source": [
        "def compute_conditional_probabilites(F, S):\n",
        "    numerator = 0\n",
        "    denominator = 0\n",
        "    for i in range(len(T)):\n",
        "        if(T[i][1] == S):\n",
        "            denominator = denominator + 1\n",
        "            if(T[i][0] == F):\n",
        "                numerator = numerator + 1\n",
        "    print('P(F = {} | S == {}) = {}/{}'.format(F, S, str(numerator), str(denominator)))\n",
        "T = [['F1','S1'],['F2','S2'],['F3','S3'],['F1','S2'],['F2','S3'],['F3','S2'],['F2','S1'],['F4','S1'],['F4','S3'],['F5','S1']]\n",
        "for i in ['F1', 'F2', 'F3', 'F4', 'F5']:\n",
        "    for j in ['S1', 'S2', 'S3']:\n",
        "        compute_conditional_probabilites(i,j)"
      ],
      "execution_count": null,
      "outputs": [
        {
          "output_type": "stream",
          "name": "stdout",
          "text": [
            "P(F = F1 | S == S1) = 1/4\n",
            "P(F = F1 | S == S2) = 1/3\n",
            "P(F = F1 | S == S3) = 0/3\n",
            "P(F = F2 | S == S1) = 1/4\n",
            "P(F = F2 | S == S2) = 1/3\n",
            "P(F = F2 | S == S3) = 1/3\n",
            "P(F = F3 | S == S1) = 0/4\n",
            "P(F = F3 | S == S2) = 1/3\n",
            "P(F = F3 | S == S3) = 1/3\n",
            "P(F = F4 | S == S1) = 1/4\n",
            "P(F = F4 | S == S2) = 0/3\n",
            "P(F = F4 | S == S3) = 1/3\n",
            "P(F = F5 | S == S1) = 1/4\n",
            "P(F = F5 | S == S2) = 0/3\n",
            "P(F = F5 | S == S3) = 0/3\n"
          ]
        }
      ]
    },
    {
      "cell_type": "markdown",
      "metadata": {
        "id": "n4HS87QmB-lF"
      },
      "source": [
        "<h3> Q9: Given two sentances S1, S2</h3>\n",
        "You will be given two sentances S1, S2 your task is to find \n",
        "<pre>\n",
        "a. Number of common words between S1, S2\n",
        "b. Words in S1 but not in S2\n",
        "c. Words in S2 but not in S1\n",
        "</pre>\n",
        "\n",
        "Ex: \n",
        "<pre>\n",
        "S1= \"the first column F will contain only 5 uniques values\"\n",
        "S2= \"the second column S will contain only 3 uniques values\"\n",
        "Output:\n",
        "a. 7\n",
        "b. ['first','F','5']\n",
        "c. ['second','S','3']\n",
        "</pre>"
      ]
    },
    {
      "cell_type": "code",
      "metadata": {
        "id": "Ez7hlHK0B-lG",
        "colab": {
          "base_uri": "https://localhost:8080/"
        },
        "outputId": "103c36ae-84bd-4fda-deb9-d12e5f8abc5b"
      },
      "source": [
        "def string_features(S1, S2):\n",
        "    # Split the words of the sentences and put the words in a set\n",
        "    S1_w = set(S1.split())\n",
        "    S2_w = set(S2.split())\n",
        "    # Use set intersection operation to get the common words between 2 sets and compute the length of the set\n",
        "    a = len(S1_w & S2_w)\n",
        "    # Use set difference operation to get the words that present in either of the set\n",
        "    b = set(S1_w) - (set(S2_w))\n",
        "    b1 = list(b)\n",
        "    c = set(S2_w) - (set(S1_w))\n",
        "    c1 = list(c)\n",
        "    return a, b1, c1\n",
        "S1 = \"the first column F will contain only 5 uniques values\"\n",
        "S2 = \"the second column S will contain only 3 uniques values\"\n",
        "a, b1, c1 = string_features(S1, S2)\n",
        "print(a)\n",
        "print(b1)\n",
        "print(c1)"
      ],
      "execution_count": null,
      "outputs": [
        {
          "output_type": "stream",
          "name": "stdout",
          "text": [
            "7\n",
            "['5', 'first', 'F']\n",
            "['3', 'second', 'S']\n"
          ]
        }
      ]
    },
    {
      "cell_type": "markdown",
      "metadata": {
        "id": "XefXVEjCB-lI"
      },
      "source": [
        "<h3> Q10: Given two sentances S1, S2</h3>\n",
        "You will be given a list of lists, each sublist will be of length 2 i.e. [[x,y],[p,q],[l,m]..[r,s]]\n",
        "consider its like a martrix of n rows and two columns\n",
        "\n",
        "a. the first column Y will contain interger values <br>\n",
        "b. the second column $Y_{score}$ will be having float values <br>\n",
        "Your task is to find the value of $f(Y,Y_{score}) = -1*\\frac{1}{n}\\Sigma_{for each Y,Y_{score} pair}(Ylog10(Y_{score})+(1-Y)log10(1-Y_{score}))$ here n is the number of rows in the matrix\n",
        "<pre>\n",
        "Ex:\n",
        "[[1, 0.4], [0, 0.5], [0, 0.9], [0, 0.3], [0, 0.6], [1, 0.1], [1, 0.9], [1, 0.8]]\n",
        "output:\n",
        "0.4243099\n",
        "</pre>\n",
        "$\\frac{-1}{8}\\cdot((1\\cdot log_{10}(0.4)+0\\cdot log_{10}(0.6))+(0\\cdot log_{10}(0.5)+1\\cdot log_{10}(0.5)) + ... + (1\\cdot log_{10}(0.8)+0\\cdot log_{10}(0.2)) )$"
      ]
    },
    {
      "cell_type": "code",
      "metadata": {
        "id": "N9zkagyNB-lJ",
        "colab": {
          "base_uri": "https://localhost:8080/"
        },
        "outputId": "b11eee04-88df-4a9c-a8e4-0f156d76b16d"
      },
      "source": [
        "from math import log\n",
        "def compute_log_loss(L):\n",
        "    loss = 0\n",
        "    for row in L:\n",
        "        loss += (row[0] * log(row[1], 10)) + ((1 - row[0]) * log(1 - row[1], 10))\n",
        "        log_loss = -1 * loss / len(L)\n",
        "    return log_loss\n",
        "\n",
        "L = [[1, 0.4], [0, 0.5], [0, 0.9], [0, 0.3], [0, 0.6], [1, 0.1], [1, 0.9], [1, 0.8]]\n",
        "loss = compute_log_loss(L)\n",
        "print(loss)"
      ],
      "execution_count": null,
      "outputs": [
        {
          "output_type": "stream",
          "name": "stdout",
          "text": [
            "0.42430993457031635\n"
          ]
        }
      ]
    }
  ]
}